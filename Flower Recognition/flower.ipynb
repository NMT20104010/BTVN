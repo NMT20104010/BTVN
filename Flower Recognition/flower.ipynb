{
  "nbformat": 4,
  "nbformat_minor": 0,
  "metadata": {
    "colab": {
      "provenance": [],
      "collapsed_sections": []
    },
    "kernelspec": {
      "name": "python3",
      "display_name": "Python 3"
    },
    "language_info": {
      "name": "python"
    },
    "accelerator": "GPU"
  },
  "cells": [
    {
      "cell_type": "code",
      "source": [
        "from google.colab import drive\n",
        "drive.mount('/content/drive')"
      ],
      "metadata": {
        "colab": {
          "base_uri": "https://localhost:8080/"
        },
        "id": "Ir12Gp2_Qb8w",
        "outputId": "b1b439e0-0dd7-4125-8393-ef65678c957d"
      },
      "execution_count": 1,
      "outputs": [
        {
          "output_type": "stream",
          "name": "stdout",
          "text": [
            "Drive already mounted at /content/drive; to attempt to forcibly remount, call drive.mount(\"/content/drive\", force_remount=True).\n"
          ]
        }
      ]
    },
    {
      "cell_type": "code",
      "source": [
        "cd /content/drive/MyDrive/Data"
      ],
      "metadata": {
        "colab": {
          "base_uri": "https://localhost:8080/"
        },
        "id": "dvSUMSGBSFFa",
        "outputId": "99e7f342-288f-42b3-d5fa-cbd0294e244a"
      },
      "execution_count": 2,
      "outputs": [
        {
          "output_type": "stream",
          "name": "stdout",
          "text": [
            "/content/drive/MyDrive/Data\n"
          ]
        }
      ]
    },
    {
      "cell_type": "code",
      "source": [
        "ls"
      ],
      "metadata": {
        "colab": {
          "base_uri": "https://localhost:8080/"
        },
        "id": "ZyM4S0wURqnt",
        "outputId": "fe32a924-5b45-4c3b-a39f-94f0080f7556"
      },
      "execution_count": 3,
      "outputs": [
        {
          "output_type": "stream",
          "name": "stdout",
          "text": [
            "\u001b[0m\u001b[01;34mtest\u001b[0m/  \u001b[01;34mtrain\u001b[0m/\n"
          ]
        }
      ]
    },
    {
      "cell_type": "code",
      "execution_count": 4,
      "metadata": {
        "id": "VBVWys8vdMYb"
      },
      "outputs": [],
      "source": [
        "import tensorflow as tf\n"
      ]
    },
    {
      "cell_type": "code",
      "source": [
        "train_datagen = tf.keras.preprocessing.image.ImageDataGenerator(\n",
        "    rescale = 1.0/255,\n",
        ")\n",
        "train_generator = train_datagen.flow_from_directory(\n",
        "    './train/',\n",
        "    target_size= (200, 200),\n",
        "    batch_size = 16,\n",
        "    class_mode = 'categorical'\n",
        ")\n",
        "test_data = tf.keras.preprocessing.image.ImageDataGenerator(rescale = 1.0/255)\n",
        "\n",
        "\n",
        "test_generator = test_data.flow_from_directory(\n",
        "    './test/', \n",
        "    target_size= (200, 200), \n",
        "    batch_size = 16,\n",
        "    class_mode = 'categorical'\n",
        ")\n",
        "\n"
      ],
      "metadata": {
        "id": "LHFkhhs_cOT3",
        "colab": {
          "base_uri": "https://localhost:8080/"
        },
        "outputId": "f1243a2e-b4af-4418-90ed-0546029acc80"
      },
      "execution_count": 11,
      "outputs": [
        {
          "output_type": "stream",
          "name": "stdout",
          "text": [
            "Found 2281 images belonging to 3 classes.\n",
            "Found 216 images belonging to 3 classes.\n"
          ]
        }
      ]
    },
    {
      "cell_type": "code",
      "source": [
        "model= tf.keras.models.Sequential([\n",
        "    tf.keras.layers.Conv2D(512, (3, 3), activation = 'relu', input_shape = (200, 200, 3)),\n",
        "    tf.keras.layers.MaxPooling2D(2, 2),\n",
        "    tf.keras.layers.Conv2D(256, (3, 3), activation = 'relu'),\n",
        "    tf.keras.layers.MaxPooling2D(2, 2), \n",
        "    tf.keras.layers.Conv2D(128, (3, 3), activation = 'relu'),\n",
        "    tf.keras.layers.MaxPooling2D(2, 2),\n",
        "    tf.keras.layers.Conv2D(64, (3, 3), activation = 'relu'),\n",
        "    tf.keras.layers.MaxPooling2D(2, 2),\n",
        "    tf.keras.layers.Conv2D(32, (3,3), activation = 'relu'),\n",
        "    tf.keras.layers.MaxPooling2D(2, 2),\n",
        "    tf.keras.layers.Flatten(),\n",
        "    tf.keras.layers.Dropout(0.5),\n",
        "    tf.keras.layers.Dense(512, activation = 'relu'),\n",
        "    tf.keras.layers.Dense(3, activation = 'softmax')\n",
        "])\n",
        "model.summary()"
      ],
      "metadata": {
        "colab": {
          "base_uri": "https://localhost:8080/"
        },
        "id": "xX33N3gYY_J9",
        "outputId": "030a798d-6c75-4ad2-d6fe-48f52b68ac53"
      },
      "execution_count": 7,
      "outputs": [
        {
          "output_type": "stream",
          "name": "stdout",
          "text": [
            "Model: \"sequential_1\"\n",
            "_________________________________________________________________\n",
            " Layer (type)                Output Shape              Param #   \n",
            "=================================================================\n",
            " conv2d_5 (Conv2D)           (None, 198, 198, 512)     14336     \n",
            "                                                                 \n",
            " max_pooling2d_5 (MaxPooling  (None, 99, 99, 512)      0         \n",
            " 2D)                                                             \n",
            "                                                                 \n",
            " conv2d_6 (Conv2D)           (None, 97, 97, 256)       1179904   \n",
            "                                                                 \n",
            " max_pooling2d_6 (MaxPooling  (None, 48, 48, 256)      0         \n",
            " 2D)                                                             \n",
            "                                                                 \n",
            " conv2d_7 (Conv2D)           (None, 46, 46, 128)       295040    \n",
            "                                                                 \n",
            " max_pooling2d_7 (MaxPooling  (None, 23, 23, 128)      0         \n",
            " 2D)                                                             \n",
            "                                                                 \n",
            " conv2d_8 (Conv2D)           (None, 21, 21, 64)        73792     \n",
            "                                                                 \n",
            " max_pooling2d_8 (MaxPooling  (None, 10, 10, 64)       0         \n",
            " 2D)                                                             \n",
            "                                                                 \n",
            " conv2d_9 (Conv2D)           (None, 8, 8, 32)          18464     \n",
            "                                                                 \n",
            " max_pooling2d_9 (MaxPooling  (None, 4, 4, 32)         0         \n",
            " 2D)                                                             \n",
            "                                                                 \n",
            " flatten_1 (Flatten)         (None, 512)               0         \n",
            "                                                                 \n",
            " dropout_1 (Dropout)         (None, 512)               0         \n",
            "                                                                 \n",
            " dense_2 (Dense)             (None, 512)               262656    \n",
            "                                                                 \n",
            " dense_3 (Dense)             (None, 3)                 1539      \n",
            "                                                                 \n",
            "=================================================================\n",
            "Total params: 1,845,731\n",
            "Trainable params: 1,845,731\n",
            "Non-trainable params: 0\n",
            "_________________________________________________________________\n"
          ]
        }
      ]
    },
    {
      "cell_type": "code",
      "source": [
        "model.compile(optimizer=\"rmsprop\", loss = \"categorical_crossentropy\", metrics=[\"accuracy\"])\n",
        "model.fit(train_generator, epochs=50, batch_size=16)"
      ],
      "metadata": {
        "colab": {
          "base_uri": "https://localhost:8080/"
        },
        "id": "jlqzn14zZzfd",
        "outputId": "538268a7-bf2b-4431-e51d-e0f71a0afe03"
      },
      "execution_count": 12,
      "outputs": [
        {
          "output_type": "stream",
          "name": "stdout",
          "text": [
            "Epoch 1/50\n",
            "143/143 [==============================] - 38s 237ms/step - loss: 0.8605 - accuracy: 0.5826\n",
            "Epoch 2/50\n",
            "143/143 [==============================] - 31s 217ms/step - loss: 0.7536 - accuracy: 0.6659\n",
            "Epoch 3/50\n",
            "143/143 [==============================] - 31s 217ms/step - loss: 0.7128 - accuracy: 0.6883\n",
            "Epoch 4/50\n",
            "143/143 [==============================] - 31s 218ms/step - loss: 0.6878 - accuracy: 0.7006\n",
            "Epoch 5/50\n",
            "143/143 [==============================] - 31s 217ms/step - loss: 0.6538 - accuracy: 0.7225\n",
            "Epoch 6/50\n",
            "143/143 [==============================] - 31s 218ms/step - loss: 0.6507 - accuracy: 0.7251\n",
            "Epoch 7/50\n",
            "143/143 [==============================] - 31s 218ms/step - loss: 0.5937 - accuracy: 0.7427\n",
            "Epoch 8/50\n",
            "143/143 [==============================] - 31s 217ms/step - loss: 0.5998 - accuracy: 0.7470\n",
            "Epoch 9/50\n",
            "143/143 [==============================] - 31s 217ms/step - loss: 0.5708 - accuracy: 0.7650\n",
            "Epoch 10/50\n",
            "143/143 [==============================] - 31s 217ms/step - loss: 0.5579 - accuracy: 0.7676\n",
            "Epoch 11/50\n",
            "143/143 [==============================] - 31s 217ms/step - loss: 0.5455 - accuracy: 0.7795\n",
            "Epoch 12/50\n",
            "143/143 [==============================] - 31s 217ms/step - loss: 0.5719 - accuracy: 0.7676\n",
            "Epoch 13/50\n",
            "143/143 [==============================] - 31s 218ms/step - loss: 0.5205 - accuracy: 0.7896\n",
            "Epoch 14/50\n",
            "143/143 [==============================] - 32s 222ms/step - loss: 0.5351 - accuracy: 0.7926\n",
            "Epoch 15/50\n",
            "143/143 [==============================] - 31s 217ms/step - loss: 0.5244 - accuracy: 0.7856\n",
            "Epoch 16/50\n",
            "143/143 [==============================] - 31s 217ms/step - loss: 0.5143 - accuracy: 0.8005\n",
            "Epoch 17/50\n",
            "143/143 [==============================] - 31s 218ms/step - loss: 0.5350 - accuracy: 0.8053\n",
            "Epoch 18/50\n",
            "143/143 [==============================] - 31s 217ms/step - loss: 0.5108 - accuracy: 0.8027\n",
            "Epoch 19/50\n",
            "143/143 [==============================] - 31s 218ms/step - loss: 0.5296 - accuracy: 0.7983\n",
            "Epoch 20/50\n",
            "143/143 [==============================] - 31s 218ms/step - loss: 0.5007 - accuracy: 0.8018\n",
            "Epoch 21/50\n",
            "143/143 [==============================] - 31s 218ms/step - loss: 0.5637 - accuracy: 0.7909\n",
            "Epoch 22/50\n",
            "143/143 [==============================] - 31s 217ms/step - loss: 0.5545 - accuracy: 0.8124\n",
            "Epoch 23/50\n",
            "143/143 [==============================] - 31s 218ms/step - loss: 0.4936 - accuracy: 0.8053\n",
            "Epoch 24/50\n",
            "143/143 [==============================] - 31s 218ms/step - loss: 0.5124 - accuracy: 0.8106\n",
            "Epoch 25/50\n",
            "143/143 [==============================] - 31s 217ms/step - loss: 0.5141 - accuracy: 0.8036\n",
            "Epoch 26/50\n",
            "143/143 [==============================] - 31s 218ms/step - loss: 0.5095 - accuracy: 0.8172\n",
            "Epoch 27/50\n",
            "143/143 [==============================] - 31s 218ms/step - loss: 0.4868 - accuracy: 0.8049\n",
            "Epoch 28/50\n",
            "143/143 [==============================] - 31s 219ms/step - loss: 0.4938 - accuracy: 0.8137\n",
            "Epoch 29/50\n",
            "143/143 [==============================] - 31s 218ms/step - loss: 0.5069 - accuracy: 0.8146\n",
            "Epoch 30/50\n",
            "143/143 [==============================] - 31s 218ms/step - loss: 0.5264 - accuracy: 0.8102\n",
            "Epoch 31/50\n",
            "143/143 [==============================] - 31s 218ms/step - loss: 0.5171 - accuracy: 0.8058\n",
            "Epoch 32/50\n",
            "143/143 [==============================] - 31s 218ms/step - loss: 0.5277 - accuracy: 0.8154\n",
            "Epoch 33/50\n",
            "143/143 [==============================] - 31s 218ms/step - loss: 0.5768 - accuracy: 0.8242\n",
            "Epoch 34/50\n",
            "143/143 [==============================] - 31s 219ms/step - loss: 0.5447 - accuracy: 0.8023\n",
            "Epoch 35/50\n",
            "143/143 [==============================] - 31s 218ms/step - loss: 0.5014 - accuracy: 0.8089\n",
            "Epoch 36/50\n",
            "143/143 [==============================] - 31s 218ms/step - loss: 0.5331 - accuracy: 0.7887\n",
            "Epoch 37/50\n",
            "143/143 [==============================] - 31s 218ms/step - loss: 0.6532 - accuracy: 0.7953\n",
            "Epoch 38/50\n",
            "143/143 [==============================] - 31s 218ms/step - loss: 0.5706 - accuracy: 0.7821\n",
            "Epoch 39/50\n",
            "143/143 [==============================] - 31s 218ms/step - loss: 0.6968 - accuracy: 0.7983\n",
            "Epoch 40/50\n",
            "143/143 [==============================] - 31s 218ms/step - loss: 0.6710 - accuracy: 0.7970\n",
            "Epoch 41/50\n",
            "143/143 [==============================] - 31s 218ms/step - loss: 0.5600 - accuracy: 0.7883\n",
            "Epoch 42/50\n",
            "143/143 [==============================] - 31s 219ms/step - loss: 0.5984 - accuracy: 0.7839\n",
            "Epoch 43/50\n",
            "143/143 [==============================] - 31s 218ms/step - loss: 0.7489 - accuracy: 0.7663\n",
            "Epoch 44/50\n",
            "143/143 [==============================] - 31s 218ms/step - loss: 0.7193 - accuracy: 0.7641\n",
            "Epoch 45/50\n",
            "143/143 [==============================] - 31s 218ms/step - loss: 0.6560 - accuracy: 0.7655\n",
            "Epoch 46/50\n",
            "143/143 [==============================] - 31s 218ms/step - loss: 0.6315 - accuracy: 0.7672\n",
            "Epoch 47/50\n",
            "143/143 [==============================] - 31s 218ms/step - loss: 0.6127 - accuracy: 0.7913\n",
            "Epoch 48/50\n",
            "143/143 [==============================] - 31s 218ms/step - loss: 0.6468 - accuracy: 0.7628\n",
            "Epoch 49/50\n",
            "143/143 [==============================] - 31s 219ms/step - loss: 0.6709 - accuracy: 0.7554\n",
            "Epoch 50/50\n",
            "143/143 [==============================] - 31s 218ms/step - loss: 0.6301 - accuracy: 0.7698\n"
          ]
        },
        {
          "output_type": "execute_result",
          "data": {
            "text/plain": [
              "<keras.callbacks.History at 0x7fac8025e3d0>"
            ]
          },
          "metadata": {},
          "execution_count": 12
        }
      ]
    },
    {
      "cell_type": "code",
      "source": [
        "# Evaluate the model on the test data\n",
        "print(\"Evaluate on test data\")\n",
        "loss, acc = model.evaluate(test_generator, batch_size=8)\n",
        "print(\"test loss: {}, test acc: {}\".format(loss, acc))"
      ],
      "metadata": {
        "colab": {
          "base_uri": "https://localhost:8080/"
        },
        "id": "nCNfMqDVag5R",
        "outputId": "7152744e-d55c-4d3a-a058-7896c6b83a8a"
      },
      "execution_count": 13,
      "outputs": [
        {
          "output_type": "stream",
          "name": "stdout",
          "text": [
            "Evaluate on test data\n",
            "14/14 [==============================] - 163s 13s/step - loss: 0.9697 - accuracy: 0.7222\n",
            "test loss: 0.9697059988975525, test acc: 0.7222222089767456\n"
          ]
        }
      ]
    }
  ]
}