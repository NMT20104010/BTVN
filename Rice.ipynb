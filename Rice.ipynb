{
  "nbformat": 4,
  "nbformat_minor": 0,
  "metadata": {
    "colab": {
      "provenance": [],
      "collapsed_sections": [],
      "authorship_tag": "ABX9TyMSjKGo9jZvglvpcDXrEOTD",
      "include_colab_link": true
    },
    "kernelspec": {
      "name": "python3",
      "display_name": "Python 3"
    },
    "language_info": {
      "name": "python"
    }
  },
  "cells": [
    {
      "cell_type": "markdown",
      "metadata": {
        "id": "view-in-github",
        "colab_type": "text"
      },
      "source": [
        "<a href=\"https://colab.research.google.com/github/NMT20104010/BTVN/blob/main/Rice.ipynb\" target=\"_parent\"><img src=\"https://colab.research.google.com/assets/colab-badge.svg\" alt=\"Open In Colab\"/></a>"
      ]
    },
    {
      "cell_type": "code",
      "execution_count": null,
      "metadata": {
        "colab": {
          "base_uri": "https://localhost:8080/"
        },
        "id": "S9OzIu0cmNME",
        "outputId": "ec854d88-0931-4ceb-cddc-a6efd5ccf764"
      },
      "outputs": [
        {
          "output_type": "stream",
          "name": "stdout",
          "text": [
            "Mounted at /content/drive\n"
          ]
        }
      ],
      "source": [
        "from google.colab import drive\n",
        "drive.mount('/content/drive')"
      ]
    },
    {
      "cell_type": "code",
      "source": [
        "cd /content/drive/MyDrive/Data/Rice\n"
      ],
      "metadata": {
        "colab": {
          "base_uri": "https://localhost:8080/"
        },
        "id": "TbOAcjXxmRe3",
        "outputId": "fa0d69f6-233e-447e-f97c-96c884c66e26"
      },
      "execution_count": null,
      "outputs": [
        {
          "output_type": "stream",
          "name": "stdout",
          "text": [
            "/content/drive/MyDrive/Data/Rice\n"
          ]
        }
      ]
    },
    {
      "cell_type": "code",
      "source": [
        "ls"
      ],
      "metadata": {
        "colab": {
          "base_uri": "https://localhost:8080/"
        },
        "id": "Pe18vgYfnuLP",
        "outputId": "2d15ab6a-9bd9-41d1-83d4-01d0e9ccfc1d"
      },
      "execution_count": null,
      "outputs": [
        {
          "output_type": "stream",
          "name": "stdout",
          "text": [
            "\u001b[0m\u001b[01;34mtest\u001b[0m/  \u001b[01;34mtrain\u001b[0m/\n"
          ]
        }
      ]
    },
    {
      "cell_type": "code",
      "source": [
        "import tensorflow as tf\n",
        "train_datagen = tf.keras.preprocessing.image.ImageDataGenerator(\n",
        "    rescale = 1.0/255)\n",
        "rice_train = train_datagen.flow_from_directory(\n",
        "    './train/',\n",
        "    target_size= (250, 250),\n",
        "    batch_size = 16,\n",
        "    class_mode = 'categorical')\n",
        "test_data = tf.keras.preprocessing.image.ImageDataGenerator(rescale = 1.0/255)\n",
        "\n",
        "\n",
        "rice_test = test_data.flow_from_directory(\n",
        "    './test/', \n",
        "    target_size= (250, 250), \n",
        "    batch_size = 16,\n",
        "    class_mode = 'categorical')"
      ],
      "metadata": {
        "colab": {
          "base_uri": "https://localhost:8080/"
        },
        "id": "-F7JV_pFmelT",
        "outputId": "f44b44cc-e123-4617-e66d-9bac5f4fe850"
      },
      "execution_count": null,
      "outputs": [
        {
          "output_type": "stream",
          "name": "stdout",
          "text": [
            "Found 759 images belonging to 5 classes.\n",
            "Found 422 images belonging to 5 classes.\n"
          ]
        }
      ]
    },
    {
      "cell_type": "code",
      "source": [
        "from keras.models import Sequential, Model\n",
        "from keras.layers import Dense, Dropout, Flatten\n",
        "from keras.layers import Conv2D, MaxPooling2D\n",
        "from keras import layers\n",
        "model=Sequential()\n",
        "model.add(Conv2D(32,kernel_size=(3,3),activation='relu',input_shape=(250,250,3),padding='same'))\n",
        "model.add(MaxPooling2D((2,2),padding='same'))\n",
        "model.add(Conv2D(64,kernel_size=(3,3),activation='relu',padding='same'))\n",
        "model.add(MaxPooling2D((2,2),padding='same'))\n",
        "model.add(Conv2D(128,kernel_size=(3,3),activation='relu',padding='same'))\n",
        "model.add(MaxPooling2D((2,2),padding='same'))\n",
        "model.add(Flatten())\n",
        "model.add(Dense(128,activation='relu'))\n",
        "model.add(Dense(5,activation='softmax'))\n",
        "model.summary()\n"
      ],
      "metadata": {
        "colab": {
          "base_uri": "https://localhost:8080/"
        },
        "id": "-9d6yTW5m_nI",
        "outputId": "2e14fb67-6f32-4fc9-c6eb-91e775fdc924"
      },
      "execution_count": null,
      "outputs": [
        {
          "output_type": "stream",
          "name": "stdout",
          "text": [
            "Model: \"sequential_3\"\n",
            "_________________________________________________________________\n",
            " Layer (type)                Output Shape              Param #   \n",
            "=================================================================\n",
            " conv2d_9 (Conv2D)           (None, 250, 250, 32)      896       \n",
            "                                                                 \n",
            " max_pooling2d_9 (MaxPooling  (None, 125, 125, 32)     0         \n",
            " 2D)                                                             \n",
            "                                                                 \n",
            " conv2d_10 (Conv2D)          (None, 125, 125, 64)      18496     \n",
            "                                                                 \n",
            " max_pooling2d_10 (MaxPoolin  (None, 63, 63, 64)       0         \n",
            " g2D)                                                            \n",
            "                                                                 \n",
            " conv2d_11 (Conv2D)          (None, 63, 63, 128)       73856     \n",
            "                                                                 \n",
            " max_pooling2d_11 (MaxPoolin  (None, 32, 32, 128)      0         \n",
            " g2D)                                                            \n",
            "                                                                 \n",
            " flatten_3 (Flatten)         (None, 131072)            0         \n",
            "                                                                 \n",
            " dense_6 (Dense)             (None, 128)               16777344  \n",
            "                                                                 \n",
            " dense_7 (Dense)             (None, 5)                 645       \n",
            "                                                                 \n",
            "=================================================================\n",
            "Total params: 16,871,237\n",
            "Trainable params: 16,871,237\n",
            "Non-trainable params: 0\n",
            "_________________________________________________________________\n"
          ]
        }
      ]
    },
    {
      "cell_type": "code",
      "source": [
        "model.compile(optimizer=\"rmsprop\", loss = \"categorical_crossentropy\", metrics=[\"accuracy\"])\n",
        "model.fit(rice_train, epochs=10, batch_size=128)"
      ],
      "metadata": {
        "colab": {
          "base_uri": "https://localhost:8080/"
        },
        "id": "5A_RwZ3inDew",
        "outputId": "1cc8a3bb-36e3-4d5d-e215-1fa659af7f6c"
      },
      "execution_count": null,
      "outputs": [
        {
          "output_type": "stream",
          "name": "stdout",
          "text": [
            "Epoch 1/10\n",
            "48/48 [==============================] - 110s 2s/step - loss: 0.8348 - accuracy: 0.7602\n",
            "Epoch 2/10\n",
            "48/48 [==============================] - 94s 2s/step - loss: 0.1159 - accuracy: 0.9578\n",
            "Epoch 3/10\n",
            "48/48 [==============================] - 94s 2s/step - loss: 0.0826 - accuracy: 0.9671\n",
            "Epoch 4/10\n",
            "48/48 [==============================] - 98s 2s/step - loss: 0.0574 - accuracy: 0.9895\n",
            "Epoch 5/10\n",
            "48/48 [==============================] - 97s 2s/step - loss: 0.0219 - accuracy: 0.9934\n",
            "Epoch 6/10\n",
            "48/48 [==============================] - 99s 2s/step - loss: 0.0358 - accuracy: 0.9868\n",
            "Epoch 7/10\n",
            "48/48 [==============================] - 99s 2s/step - loss: 0.0153 - accuracy: 0.9960\n",
            "Epoch 8/10\n",
            "48/48 [==============================] - 99s 2s/step - loss: 0.0309 - accuracy: 0.9934\n",
            "Epoch 9/10\n",
            "48/48 [==============================] - 99s 2s/step - loss: 7.5786e-05 - accuracy: 1.0000\n",
            "Epoch 10/10\n",
            "48/48 [==============================] - 95s 2s/step - loss: 0.0273 - accuracy: 0.9921\n"
          ]
        },
        {
          "output_type": "execute_result",
          "data": {
            "text/plain": [
              "<keras.callbacks.History at 0x7f9b77c24c90>"
            ]
          },
          "metadata": {},
          "execution_count": 19
        }
      ]
    },
    {
      "cell_type": "code",
      "source": [
        "model.save('Rice.h5')\n"
      ],
      "metadata": {
        "id": "XqsggHBTwBYI"
      },
      "execution_count": null,
      "outputs": []
    },
    {
      "cell_type": "code",
      "source": [
        "from keras.models import load_model\n",
        "model_flower=load_model('Rice.h5')"
      ],
      "metadata": {
        "id": "tZU84781wD2t"
      },
      "execution_count": null,
      "outputs": []
    },
    {
      "cell_type": "code",
      "source": [
        "from keras.utils import load_img, img_to_array\n",
        "import matplotlib.pyplot as plt\n",
        "import numpy as np\n",
        "img = load_img('/content/Ipsala (14233).jpg',target_size = (250,250))\n",
        "plt.imshow(img)\n",
        "img=img_to_array(img)\n",
        "img=img.astype('float32')\n",
        "img=img/255\n",
        "img=np.expand_dims(img,axis=0)\n",
        "result=model_flower.predict(img)\n",
        "class_name=['Arborio','Basmati','Ipsala','Jamine','Karacadag']\n",
        "r= int(np.argmax(result,axis=1))\n",
        "print(\"Đây là :\", class_name[r])"
      ],
      "metadata": {
        "colab": {
          "base_uri": "https://localhost:8080/",
          "height": 304
        },
        "id": "t7C5YuzuwJZM",
        "outputId": "ab385fde-39c9-4b19-df95-2a0fc1b75f65"
      },
      "execution_count": null,
      "outputs": [
        {
          "output_type": "stream",
          "name": "stdout",
          "text": [
            "1/1 [==============================] - 0s 301ms/step\n",
            "Đây là : Ipsala\n"
          ]
        },
        {
          "output_type": "display_data",
          "data": {
            "text/plain": [
              "<Figure size 432x288 with 1 Axes>"
            ],
            "image/png": "[encoded data removed]"
          },
          "metadata": {
            "needs_background": "light"
          }
        }
      ]
    },
    {
      "cell_type": "code",
      "source": [
        "!jupyter nbconvert --to html \"/content/Rice.ipynb\""
      ],
      "metadata": {
        "colab": {
          "base_uri": "https://localhost:8080/"
        },
        "id": "Yvw-ASiPw3SC",
        "outputId": "63136302-5eca-44e7-f646-78f7bf93f26b"
      },
      "execution_count": null,
      "outputs": [
        {
          "output_type": "stream",
          "name": "stdout",
          "text": [
            "[NbConvertApp] Converting notebook /content/Rice.ipynb to html\n",
            "[NbConvertApp] Writing 317863 bytes to /content/Rice.html\n"
          ]
        }
      ]
    }
  ]
}